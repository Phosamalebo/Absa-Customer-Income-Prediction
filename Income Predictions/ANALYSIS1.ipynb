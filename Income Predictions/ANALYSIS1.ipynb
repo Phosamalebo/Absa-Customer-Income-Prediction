{
 "cells": [
  {
   "attachments": {},
   "cell_type": "markdown",
   "metadata": {},
   "source": [
    "## Import data"
   ]
  },
  {
   "cell_type": "code",
   "execution_count": null,
   "metadata": {},
   "outputs": [],
   "source": [
    "/* Generated Code (IMPORT) */\n",
    "/* Source File: cleaned_df.csv */\n",
    "/* Source Path: /home/u62467433/Customer Income Prediction Analysis */\n",
    "/* Code generated on: 13/07/2023 09:12 */\n",
    "\n",
    "%web_drop_table(Malebo.data);\n",
    "\n",
    "\n",
    "FILENAME REFFILE '/home/u62467433/Customer Income Prediction Analysis/cleaned_df.csv';\n",
    "\n",
    "PROC IMPORT DATAFILE=REFFILE\n",
    "\tDBMS=CSV\n",
    "\tOUT=Malebo.data;\n",
    "\tGETNAMES=YES;\n",
    "RUN;\n",
    "\n",
    "PROC CONTENTS DATA=Malebo.data; RUN;\n",
    "\n",
    "\n",
    "%web_open_table(Malebo.data);"
   ]
  },
  {
   "attachments": {},
   "cell_type": "markdown",
   "metadata": {},
   "source": [
    "## Distribition of Income Group Description"
   ]
  },
  {
   "cell_type": "code",
   "execution_count": null,
   "metadata": {},
   "outputs": [],
   "source": [
    "ods graphics / reset width=6.4in height=4.8in imagemap;\n",
    "\n",
    "/* Sort the dataset by INCOME_GROUP_DESC */\n",
    "proc sort data=MALEBO.DATA;\n",
    "  by INCOME_GROUP_DESC;\n",
    "run;\n",
    "\n",
    "proc sgplot data=MALEBO.DATA;\n",
    "\tvbar INCOME_GROUP_DESC /;\n",
    "\tyaxis grid;\n",
    "run;\n",
    "\n",
    "ods graphics / reset;"
   ]
  },
  {
   "attachments": {},
   "cell_type": "markdown",
   "metadata": {},
   "source": [
    "## Gender distribution"
   ]
  },
  {
   "cell_type": "code",
   "execution_count": null,
   "metadata": {},
   "outputs": [],
   "source": [
    "\n",
    "proc template;\n",
    "\tdefine statgraph SASStudio.Pie;\n",
    "\t\tbegingraph;\n",
    "\t\tentrytitle \"Gender Distribution\" / textattrs=(size=14);\n",
    "\t\tlayout region;\n",
    "\t\tpiechart category=SEX_CODE / stat=pct categorydirection=clockwise \n",
    "\t\t\tdataskin=gloss;\n",
    "\t\tendlayout;\n",
    "\t\tendgraph;\n",
    "\tend;\n",
    "run;\n",
    "\n",
    "ods graphics / reset width=6.4in height=4.8in imagemap;\n",
    "\n",
    "proc sgrender template=SASStudio.Pie data=MALEBO.DATAK;\n",
    "run;\n",
    "\n",
    "ods graphics / reset;"
   ]
  },
  {
   "cell_type": "markdown",
   "metadata": {},
   "source": [
    "##  Most Common Transaction Description"
   ]
  },
  {
   "cell_type": "code",
   "execution_count": null,
   "metadata": {},
   "outputs": [],
   "source": [
    "\n",
    "proc template;\n",
    "\tdefine statgraph SASStudio.Pie;\n",
    "\t\tbegingraph;\n",
    "\t\tlayout region;\n",
    "\t\tpiechart category=TRANSACTION_DESCRIPTION /;\n",
    "\t\tendlayout;\n",
    "\t\tendgraph;\n",
    "\tend;\n",
    "run;\n",
    "\n",
    "ods graphics / reset width=6.4in height=4.8in imagemap;\n",
    "\n",
    "proc sgrender template=SASStudio.Pie data=Malebo.data;\n",
    "run;\n",
    "\n",
    "ods graphics / reset;"
   ]
  },
  {
   "cell_type": "markdown",
   "metadata": {},
   "source": [
    "## Total Transactions Per Channel by Product Code"
   ]
  },
  {
   "cell_type": "code",
   "execution_count": null,
   "metadata": {},
   "outputs": [],
   "source": [
    "\n",
    "ods graphics / reset width=6.4in height=4.8in imagemap;\n",
    "\n",
    "proc sgplot data=Malebo.data;\n",
    "\ttitle height=14pt \"Total Transactions Per Channel by Product Code\";\n",
    "\tvbar CHANNEL / response=EVENT_NUMBER group=PRODUCT_CODE groupdisplay=cluster \n",
    "\t\tstat=mean dataskin=sheen;\n",
    "\tyaxis grid;\n",
    "run;\n",
    "\n",
    "ods graphics / reset;\n",
    "title;"
   ]
  },
  {
   "cell_type": "markdown",
   "metadata": {},
   "source": [
    "## Total Transactions Per income_proup_description by Channel"
   ]
  },
  {
   "cell_type": "code",
   "execution_count": null,
   "metadata": {},
   "outputs": [],
   "source": [
    "\n",
    "ods graphics / reset width=6.4in height=4.8in imagemap;\n",
    "\n",
    "proc sgplot data=Malebo.data;\n",
    "\ttitle height=14pt \"Total Transactions Per income_proup_description by Channel\";\n",
    "\tvbar INCOME_GROUP_DESC / response=EVENT_NUMBER group=CHANNEL groupdisplay=cluster \n",
    "\t\tstat=mean dataskin=sheen;\n",
    "\tyaxis grid;\n",
    "run;\n",
    "\n",
    "ods graphics / reset;\n",
    "title;"
   ]
  },
  {
   "cell_type": "markdown",
   "metadata": {},
   "source": [
    "## Most used channel by each age group"
   ]
  },
  {
   "cell_type": "code",
   "execution_count": null,
   "metadata": {},
   "outputs": [],
   "source": [
    "\n",
    "/* Define custom format for age grouping */\n",
    "proc format;\n",
    "   value age_group\n",
    "   low -< 20 = 'Under 20'\n",
    "   20 -< 30 = '20s'\n",
    "   30 -< 40 = '30s'\n",
    "   40 -< 50 = '40s'\n",
    "   50 -< 60 = '50s'\n",
    "   60 -< 70 = '60s'\n",
    "   70 -< 80 = '70s'\n",
    "   80 - high = '80 and above';\n",
    "run;\n",
    "\n",
    "/* Apply the age grouping format to the age variable */\n",
    "DATA data1;\n",
    "   SET MALEBO.DATA;\n",
    "\n",
    "   age_group = put(age, age_group.);\n",
    "RUN;\n",
    "\n",
    "/* Generate a bar chart with grouped ages */\n",
    "ods graphics / reset width=6.4in height=4.8in imagemap;\n",
    "\n",
    "proc sgplot data=data1;\n",
    "\ttitle height=14pt \"Most used Channel by Age\";\n",
    "   vbar age_group / group=CHANNEL groupdisplay=cluster datalabel dataskin=sheen;\n",
    "   yaxis grid;\n",
    "run;\n",
    "\n",
    "ods graphics / reset;"
   ]
  },
  {
   "cell_type": "markdown",
   "metadata": {},
   "source": [
    "## Event Number By Age group and product code"
   ]
  },
  {
   "cell_type": "code",
   "execution_count": null,
   "metadata": {},
   "outputs": [],
   "source": [
    "\n",
    "/* Define custom format for age grouping */\n",
    "proc format;\n",
    "   value age_group\n",
    "   low -< 20 = 'Under 20'\n",
    "   20 -< 30 = '20s'\n",
    "   30 -< 40 = '30s'\n",
    "   40 -< 50 = '40s'\n",
    "   50 -< 60 = '50s'\n",
    "   60 -< 70 = '60s'\n",
    "   70 -< 80 = '70s'\n",
    "   80 - high = '80 and above';\n",
    "run;\n",
    "\n",
    "/* Apply the age grouping format to the age variable */\n",
    "DATA data1;\n",
    "   SET MALEBO.DATA;\n",
    "\n",
    "   age_group = put(age, age_group.);\n",
    "RUN;\n",
    "ods graphics / reset width=6.4in height=4.8in imagemap;\n",
    "\n",
    "proc sgplot data=MALEBO.DATA;\n",
    "\ttitle height=14pt \"Average Event number by Age group and Product code\";\n",
    "\tvbar age_group / response=EVENT_NUMBER group=PRODUCT_CODE groupdisplay=cluster \n",
    "\t\tstat=mean dataskin=sheen;\n",
    "\tyaxis grid;\n",
    "run;\n",
    "\n",
    "ods graphics / reset;\n",
    "title;"
   ]
  },
  {
   "cell_type": "markdown",
   "metadata": {},
   "source": [
    "## Total count of  Customers by Age grouped by Income Group"
   ]
  },
  {
   "cell_type": "code",
   "execution_count": null,
   "metadata": {},
   "outputs": [],
   "source": [
    "\n",
    "/* Define custom format for age grouping */\n",
    "proc format;\n",
    "   value age_group\n",
    "   low -< 20 = 'Under 20'\n",
    "   20 -< 30 = '20s'\n",
    "   30 -< 40 = '30s'\n",
    "   40 -< 50 = '40s'\n",
    "   50 -< 60 = '50s'\n",
    "   60 -< 70 = '60s'\n",
    "   70 -< 80 = '70s'\n",
    "   80 - high = '80 and above';\n",
    "run;\n",
    "\n",
    "/* Apply the age grouping format to the age variable */\n",
    "DATA data1;\n",
    "   SET MALEBO.DATA;\n",
    "\n",
    "   age_group = put(age, age_group.);\n",
    "RUN;\n",
    "\n",
    "/* Generate a bar chart with grouped ages */\n",
    "ods graphics / reset width=6.4in height=4.8in imagemap;\n",
    "\n",
    "proc sgplot data=data1;\n",
    "\ttitle height=14pt \"Total Customer ID by Age grouped by Income Group\";\n",
    "   vbar INCOME_GROUP_DESC/  group=age_group groupdisplay=cluster datalabel dataskin=sheen;\n",
    "   yaxis grid;\n",
    "run;\n",
    "\n",
    "ods graphics / reset;"
   ]
  },
  {
   "attachments": {},
   "cell_type": "markdown",
   "metadata": {},
   "source": [
    "## seasonal trends in customer transaction activity"
   ]
  },
  {
   "cell_type": "code",
   "execution_count": null,
   "metadata": {},
   "outputs": [],
   "source": [
    "\n",
    "/* Sort the data by RECORD_DATE */\n",
    "proc sort data = MALEBO.DATA;\n",
    "  by TRANSACTION_RECORD_DATE;\n",
    "run;\n",
    "\n",
    "/* Create the bar graph */\n",
    "proc sgplot data=MALEBO.DATA;\n",
    "  format TRANSACTION_RECORD_DATE MONYY.;\n",
    "  vbar TRANSACTION_RECORD_DATE / response=EVENT_NUMBER group=TRANSACTION_RECORD_DATE;\n",
    "  xaxis label='Record Date' valuesformat=MONYY.;\n",
    "  yaxis label='Event Number';\n",
    "  title 'Bar Graph of Event Number over Record Date';\n",
    "run;"
   ]
  }
 ],
 "metadata": {
  "language_info": {
   "name": "python"
  },
  "orig_nbformat": 4
 },
 "nbformat": 4,
 "nbformat_minor": 2
}
